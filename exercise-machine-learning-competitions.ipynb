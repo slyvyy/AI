{
 "cells": [
  {
   "cell_type": "markdown",
   "id": "afae6afc",
   "metadata": {
    "papermill": {
     "duration": 0.00456,
     "end_time": "2023-06-29T22:33:50.599218",
     "exception": false,
     "start_time": "2023-06-29T22:33:50.594658",
     "status": "completed"
    },
    "tags": []
   },
   "source": [
    "**This notebook is an exercise in the [Introduction to Machine Learning](https://www.kaggle.com/learn/intro-to-machine-learning) course.  You can reference the tutorial at [this link](https://www.kaggle.com/alexisbcook/machine-learning-competitions).**\n",
    "\n",
    "---\n"
   ]
  },
  {
   "cell_type": "markdown",
   "id": "5932236b",
   "metadata": {
    "papermill": {
     "duration": 0.003769,
     "end_time": "2023-06-29T22:33:50.607180",
     "exception": false,
     "start_time": "2023-06-29T22:33:50.603411",
     "status": "completed"
    },
    "tags": []
   },
   "source": [
    "# Introduction\n",
    "\n",
    "In this exercise, you will create and submit predictions for a Kaggle competition. You can then improve your model (e.g. by adding features) to apply what you've learned and move up the leaderboard.\n",
    "\n",
    "Begin by running the code cell below to set up code checking and the filepaths for the dataset."
   ]
  },
  {
   "cell_type": "code",
   "execution_count": 1,
   "id": "7ade90be",
   "metadata": {
    "execution": {
     "iopub.execute_input": "2023-06-29T22:33:50.616853Z",
     "iopub.status.busy": "2023-06-29T22:33:50.616466Z",
     "iopub.status.idle": "2023-06-29T22:33:50.657849Z",
     "shell.execute_reply": "2023-06-29T22:33:50.656953Z"
    },
    "papermill": {
     "duration": 0.049096,
     "end_time": "2023-06-29T22:33:50.660296",
     "exception": false,
     "start_time": "2023-06-29T22:33:50.611200",
     "status": "completed"
    },
    "tags": []
   },
   "outputs": [],
   "source": [
    "# Set up code checking\n",
    "from learntools.core import binder\n",
    "binder.bind(globals())\n",
    "from learntools.machine_learning.ex7 import *\n",
    "\n",
    "# Set up filepaths\n",
    "import os\n",
    "if not os.path.exists(\"../input/train.csv\"):\n",
    "    os.symlink(\"../input/home-data-for-ml-course/train.csv\", \"../input/train.csv\")  \n",
    "    os.symlink(\"../input/home-data-for-ml-course/test.csv\", \"../input/test.csv\") "
   ]
  },
  {
   "cell_type": "markdown",
   "id": "e16a334d",
   "metadata": {
    "papermill": {
     "duration": 0.003766,
     "end_time": "2023-06-29T22:33:50.668289",
     "exception": false,
     "start_time": "2023-06-29T22:33:50.664523",
     "status": "completed"
    },
    "tags": []
   },
   "source": [
    "Here's some of the code you've written so far. Start by running it again."
   ]
  },
  {
   "cell_type": "code",
   "execution_count": 2,
   "id": "d9bccd4c",
   "metadata": {
    "execution": {
     "iopub.execute_input": "2023-06-29T22:33:50.678412Z",
     "iopub.status.busy": "2023-06-29T22:33:50.678002Z",
     "iopub.status.idle": "2023-06-29T22:33:53.029625Z",
     "shell.execute_reply": "2023-06-29T22:33:53.028596Z"
    },
    "papermill": {
     "duration": 2.35982,
     "end_time": "2023-06-29T22:33:53.032081",
     "exception": false,
     "start_time": "2023-06-29T22:33:50.672261",
     "status": "completed"
    },
    "tags": []
   },
   "outputs": [
    {
     "name": "stdout",
     "output_type": "stream",
     "text": [
      "Validation MAE for Random Forest Model: 17,699\n"
     ]
    }
   ],
   "source": [
    "# Import helpful libraries\n",
    "import pandas as pd\n",
    "from sklearn.ensemble import RandomForestRegressor\n",
    "from sklearn.metrics import mean_absolute_error\n",
    "from sklearn.model_selection import train_test_split\n",
    "\n",
    "# Load the data, and separate the target\n",
    "iowa_file_path = '../input/train.csv'\n",
    "home_data = pd.read_csv(iowa_file_path)\n",
    "y = home_data.SalePrice\n",
    "\n",
    "# Create X (After completing the exercise, you can return to modify this line!)\n",
    "features = ['ScreenPorch','KitchenAbvGr','LotArea', 'YearBuilt', '1stFlrSF', '2ndFlrSF', 'FullBath', 'TotRmsAbvGrd','OverallQual','YrSold','PoolArea','OverallCond','GrLivArea','BedroomAbvGr','YearRemodAdd']\n",
    "\n",
    "# Select columns corresponding to features, and preview the data\n",
    "X = home_data[features]\n",
    "X.head()\n",
    "\n",
    "# Split into validation and training data\n",
    "train_X, val_X, train_y, val_y = train_test_split(X, y, random_state=1)\n",
    "\n",
    "# Define a random forest model\n",
    "rf_model = RandomForestRegressor(random_state=1)\n",
    "rf_model.fit(train_X, train_y)\n",
    "rf_val_predictions = rf_model.predict(val_X)\n",
    "rf_val_mae = mean_absolute_error(rf_val_predictions, val_y)\n",
    "\n",
    "print(\"Validation MAE for Random Forest Model: {:,.0f}\".format(rf_val_mae))"
   ]
  },
  {
   "cell_type": "code",
   "execution_count": 3,
   "id": "f404fd6f",
   "metadata": {
    "execution": {
     "iopub.execute_input": "2023-06-29T22:33:53.042133Z",
     "iopub.status.busy": "2023-06-29T22:33:53.041751Z",
     "iopub.status.idle": "2023-06-29T22:33:53.046240Z",
     "shell.execute_reply": "2023-06-29T22:33:53.045294Z"
    },
    "papermill": {
     "duration": 0.011612,
     "end_time": "2023-06-29T22:33:53.048222",
     "exception": false,
     "start_time": "2023-06-29T22:33:53.036610",
     "status": "completed"
    },
    "tags": []
   },
   "outputs": [],
   "source": [
    "# fn=['MSSubClass',\n",
    "# 'OverallCond',\n",
    "# 'YearRemodAdd',\n",
    "# '1stFlrSF',\n",
    "# '2ndFlrSF',\n",
    "# 'GrLivArea',\n",
    "# 'FullBath',\n",
    "# 'HalfBath',\n",
    "# 'KitchenAbvGr',\n",
    "# 'TotRmsAbvGrd',\n",
    "# 'Fireplaces',\n",
    "# 'WoodDeckSF',\n",
    "# 'OpenPorchSF',\n",
    "# 'ScreenPorch',\n",
    "# 'PoolArea',\n",
    "# 'MoSold',\n",
    "# 'YrSold',\"SalePrice\"\n",
    "# ]\n",
    "# home_data[fn].head()"
   ]
  },
  {
   "cell_type": "markdown",
   "id": "5792eab8",
   "metadata": {
    "papermill": {
     "duration": 0.005204,
     "end_time": "2023-06-29T22:33:53.057463",
     "exception": false,
     "start_time": "2023-06-29T22:33:53.052259",
     "status": "completed"
    },
    "tags": []
   },
   "source": [
    "# Train a model for the competition\n",
    "\n",
    "The code cell above trains a Random Forest model on **`train_X`** and **`train_y`**.  \n",
    "\n",
    "Use the code cell below to build a Random Forest model and train it on all of **`X`** and **`y`**."
   ]
  },
  {
   "cell_type": "code",
   "execution_count": 4,
   "id": "eeae558c",
   "metadata": {
    "execution": {
     "iopub.execute_input": "2023-06-29T22:33:53.067021Z",
     "iopub.status.busy": "2023-06-29T22:33:53.066652Z",
     "iopub.status.idle": "2023-06-29T22:33:53.936550Z",
     "shell.execute_reply": "2023-06-29T22:33:53.935463Z"
    },
    "papermill": {
     "duration": 0.87763,
     "end_time": "2023-06-29T22:33:53.939099",
     "exception": false,
     "start_time": "2023-06-29T22:33:53.061469",
     "status": "completed"
    },
    "tags": []
   },
   "outputs": [],
   "source": [
    "# To improve accuracy, create a new Random Forest model which you will train on all training data\n",
    "rf_model_on_full_data = RandomForestRegressor(random_state = 1)\n",
    "\n",
    "# fit rf_model_on_full_data on all data from the training data\n",
    "modeln = rf_model_on_full_data.fit(X,y)"
   ]
  },
  {
   "cell_type": "markdown",
   "id": "9bf4bc99",
   "metadata": {
    "papermill": {
     "duration": 0.003803,
     "end_time": "2023-06-29T22:33:53.947130",
     "exception": false,
     "start_time": "2023-06-29T22:33:53.943327",
     "status": "completed"
    },
    "tags": []
   },
   "source": [
    "Now, read the file of \"test\" data, and apply your model to make predictions."
   ]
  },
  {
   "cell_type": "code",
   "execution_count": 5,
   "id": "9d90ad1f",
   "metadata": {
    "execution": {
     "iopub.execute_input": "2023-06-29T22:33:53.956912Z",
     "iopub.status.busy": "2023-06-29T22:33:53.956515Z",
     "iopub.status.idle": "2023-06-29T22:33:54.027483Z",
     "shell.execute_reply": "2023-06-29T22:33:54.026374Z"
    },
    "papermill": {
     "duration": 0.078462,
     "end_time": "2023-06-29T22:33:54.029668",
     "exception": false,
     "start_time": "2023-06-29T22:33:53.951206",
     "status": "completed"
    },
    "tags": []
   },
   "outputs": [
    {
     "name": "stdout",
     "output_type": "stream",
     "text": [
      "[123496.58 146993.   168753.12 ... 154301.   121112.   232414.15]\n"
     ]
    }
   ],
   "source": [
    "# path to file you will use for predictions\n",
    "test_data_path = '../input/test.csv'\n",
    "\n",
    "# read test data file using pandas\n",
    "test_data = pd.read_csv(test_data_path)\n",
    "\n",
    "# create test_X which comes from test_data but includes only the columns you used for prediction.\n",
    "# The list of columns is stored in a variable called features\n",
    "test_X = test_data[features]\n",
    "\n",
    "# make predictions which we will submit. \n",
    "test_preds = modeln.predict(test_X)\n",
    "print(test_preds)"
   ]
  },
  {
   "cell_type": "markdown",
   "id": "0c1e9ecf",
   "metadata": {
    "papermill": {
     "duration": 0.003827,
     "end_time": "2023-06-29T22:33:54.037611",
     "exception": false,
     "start_time": "2023-06-29T22:33:54.033784",
     "status": "completed"
    },
    "tags": []
   },
   "source": [
    "Before submitting, run a check to make sure your `test_preds` have the right format."
   ]
  },
  {
   "cell_type": "code",
   "execution_count": 6,
   "id": "e964f034",
   "metadata": {
    "execution": {
     "iopub.execute_input": "2023-06-29T22:33:54.047545Z",
     "iopub.status.busy": "2023-06-29T22:33:54.047199Z",
     "iopub.status.idle": "2023-06-29T22:33:54.056283Z",
     "shell.execute_reply": "2023-06-29T22:33:54.055265Z"
    },
    "papermill": {
     "duration": 0.016446,
     "end_time": "2023-06-29T22:33:54.058169",
     "exception": false,
     "start_time": "2023-06-29T22:33:54.041723",
     "status": "completed"
    },
    "tags": []
   },
   "outputs": [
    {
     "data": {
      "application/javascript": [
       "parent.postMessage({\"jupyterEvent\": \"custom.exercise_interaction\", \"data\": {\"outcomeType\": 1, \"valueTowardsCompletion\": 1.0, \"interactionType\": 1, \"questionType\": 2, \"questionId\": \"1_CheckSubmittablePreds\", \"learnToolsVersion\": \"0.3.4\", \"failureMessage\": \"\", \"exceptionClass\": \"\", \"trace\": \"\"}}, \"*\")"
      ],
      "text/plain": [
       "<IPython.core.display.Javascript object>"
      ]
     },
     "metadata": {},
     "output_type": "display_data"
    },
    {
     "data": {
      "text/markdown": [
       "<span style=\"color:#33cc33\">Correct</span>"
      ],
      "text/plain": [
       "Correct"
      ]
     },
     "metadata": {},
     "output_type": "display_data"
    }
   ],
   "source": [
    "# Check your answer (To get credit for completing the exercise, you must get a \"Correct\" result!)\n",
    "step_1.check()\n",
    "# step_1.solution()"
   ]
  },
  {
   "cell_type": "markdown",
   "id": "afebd2bc",
   "metadata": {
    "papermill": {
     "duration": 0.004036,
     "end_time": "2023-06-29T22:33:54.066578",
     "exception": false,
     "start_time": "2023-06-29T22:33:54.062542",
     "status": "completed"
    },
    "tags": []
   },
   "source": [
    "# Generate a submission\n",
    "\n",
    "Run the code cell below to generate a CSV file with your predictions that you can use to submit to the competition."
   ]
  },
  {
   "cell_type": "code",
   "execution_count": 7,
   "id": "70e4292c",
   "metadata": {
    "execution": {
     "iopub.execute_input": "2023-06-29T22:33:54.076843Z",
     "iopub.status.busy": "2023-06-29T22:33:54.076456Z",
     "iopub.status.idle": "2023-06-29T22:33:54.090769Z",
     "shell.execute_reply": "2023-06-29T22:33:54.089721Z"
    },
    "papermill": {
     "duration": 0.022404,
     "end_time": "2023-06-29T22:33:54.093219",
     "exception": false,
     "start_time": "2023-06-29T22:33:54.070815",
     "status": "completed"
    },
    "tags": []
   },
   "outputs": [],
   "source": [
    "# Run the code to save predictions in the format used for competition scoring\n",
    "\n",
    "output = pd.DataFrame({'Id': test_data.Id,\n",
    "                       'SalePrice': test_preds})\n",
    "output.to_csv('submission.csv', index=False)"
   ]
  },
  {
   "cell_type": "code",
   "execution_count": null,
   "id": "08dc2932",
   "metadata": {
    "papermill": {
     "duration": 0.004179,
     "end_time": "2023-06-29T22:33:54.101884",
     "exception": false,
     "start_time": "2023-06-29T22:33:54.097705",
     "status": "completed"
    },
    "tags": []
   },
   "outputs": [],
   "source": []
  },
  {
   "cell_type": "markdown",
   "id": "2a01dd61",
   "metadata": {
    "papermill": {
     "duration": 0.003976,
     "end_time": "2023-06-29T22:33:54.110112",
     "exception": false,
     "start_time": "2023-06-29T22:33:54.106136",
     "status": "completed"
    },
    "tags": []
   },
   "source": [
    "# Submit to the competition\n",
    "\n",
    "To test your results, you'll need to join the competition (if you haven't already).  So open a new window by clicking on **[this link](https://www.kaggle.com/c/home-data-for-ml-course)**.  Then click on the **Join Competition** button.\n",
    "\n",
    "![join competition image](https://storage.googleapis.com/kaggle-media/learn/images/axBzctl.png)\n",
    "\n",
    "Next, follow the instructions below:\n",
    "1. Begin by clicking on the **Save Version** button in the top right corner of the window.  This will generate a pop-up window.  \n",
    "2. Ensure that the **Save and Run All** option is selected, and then click on the **Save** button.\n",
    "3. This generates a window in the bottom left corner of the notebook.  After it has finished running, click on the number to the right of the **Save Version** button.  This pulls up a list of versions on the right of the screen.  Click on the ellipsis **(...)** to the right of the most recent version, and select **Open in Viewer**.  This brings you into view mode of the same page. You will need to scroll down to get back to these instructions.\n",
    "4. Click on the **Data** tab near the top of the screen.  Then, click on the file you would like to submit, and click on the **Submit** button to submit your results to the leaderboard.\n",
    "\n",
    "You have now successfully submitted to the competition!\n",
    "\n",
    "If you want to keep working to improve your performance, select the **Edit** button in the top right of the screen. Then you can change your code and repeat the process. There's a lot of room to improve, and you will climb up the leaderboard as you work.\n",
    "\n",
    "\n",
    "# Continue Your Progress\n",
    "There are many ways to improve your model, and **experimenting is a great way to learn at this point.**\n",
    "\n",
    "The best way to improve your model is to add features.  To add more features to the data, revisit the first code cell, and change this line of code to include more column names:\n",
    "```python\n",
    "features = ['LotArea', 'YearBuilt', '1stFlrSF', '2ndFlrSF', 'FullBath', 'BedroomAbvGr', 'TotRmsAbvGrd']\n",
    "```\n",
    "\n",
    "Some features will cause errors because of issues like missing values or non-numeric data types.  Here is a complete list of potential columns that you might like to use, and that won't throw errors:\n",
    "- 'MSSubClass'\n",
    "- 'LotArea'\n",
    "- 'OverallQual' \n",
    "- 'OverallCond' \n",
    "- 'YearBuilt'\n",
    "- 'YearRemodAdd' \n",
    "- '1stFlrSF'\n",
    "- '2ndFlrSF' \n",
    "- 'LowQualFinSF' \n",
    "- 'GrLivArea'\n",
    "- 'FullBath'\n",
    "- 'HalfBath'\n",
    "- 'BedroomAbvGr' \n",
    "- 'KitchenAbvGr' \n",
    "- 'TotRmsAbvGrd' \n",
    "- 'Fireplaces' \n",
    "- 'WoodDeckSF' \n",
    "- 'OpenPorchSF'\n",
    "- 'EnclosedPorch' \n",
    "- '3SsnPorch' \n",
    "- 'ScreenPorch' \n",
    "- 'PoolArea' \n",
    "- 'MiscVal' \n",
    "- 'MoSold' \n",
    "- 'YrSold'\n",
    "\n",
    "Look at the list of columns and think about what might affect home prices.  To learn more about each of these features, take a look at the data description on the **[competition page](https://www.kaggle.com/c/home-data-for-ml-course/data)**.\n",
    "\n",
    "After updating the code cell above that defines the features, re-run all of the code cells to evaluate the model and generate a new submission file.  \n",
    "\n",
    "\n",
    "# What's next?\n",
    "\n",
    "As mentioned above, some of the features will throw an error if you try to use them to train your model.  The **[Intermediate Machine Learning](https://www.kaggle.com/learn/intermediate-machine-learning)** course will teach you how to handle these types of features. You will also learn to use **xgboost**, a technique giving even better accuracy than Random Forest.\n",
    "\n",
    "The **[Pandas](https://kaggle.com/Learn/Pandas)** course will give you the data manipulation skills to quickly go from conceptual idea to implementation in your data science projects. \n",
    "\n",
    "You are also ready for the **[Deep Learning](https://kaggle.com/Learn/intro-to-Deep-Learning)** course, where you will build models with better-than-human level performance at computer vision tasks."
   ]
  },
  {
   "cell_type": "markdown",
   "id": "3bfc8616",
   "metadata": {
    "papermill": {
     "duration": 0.003909,
     "end_time": "2023-06-29T22:33:54.118256",
     "exception": false,
     "start_time": "2023-06-29T22:33:54.114347",
     "status": "completed"
    },
    "tags": []
   },
   "source": [
    "---\n",
    "\n",
    "\n",
    "\n",
    "\n",
    "*Have questions or comments? Visit the [course discussion forum](https://www.kaggle.com/learn/intro-to-machine-learning/discussion) to chat with other learners.*"
   ]
  }
 ],
 "metadata": {
  "kernelspec": {
   "display_name": "Python 3",
   "language": "python",
   "name": "python3"
  },
  "language_info": {
   "codemirror_mode": {
    "name": "ipython",
    "version": 3
   },
   "file_extension": ".py",
   "mimetype": "text/x-python",
   "name": "python",
   "nbconvert_exporter": "python",
   "pygments_lexer": "ipython3",
   "version": "3.10.10"
  },
  "papermill": {
   "default_parameters": {},
   "duration": 14.028525,
   "end_time": "2023-06-29T22:33:55.043898",
   "environment_variables": {},
   "exception": null,
   "input_path": "__notebook__.ipynb",
   "output_path": "__notebook__.ipynb",
   "parameters": {},
   "start_time": "2023-06-29T22:33:41.015373",
   "version": "2.4.0"
  }
 },
 "nbformat": 4,
 "nbformat_minor": 5
}
