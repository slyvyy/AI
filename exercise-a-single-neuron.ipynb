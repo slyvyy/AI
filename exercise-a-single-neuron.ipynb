{
 "cells": [
  {
   "cell_type": "markdown",
   "id": "e9cd10d0",
   "metadata": {
    "papermill": {
     "duration": 0.004597,
     "end_time": "2023-06-29T22:28:31.229659",
     "exception": false,
     "start_time": "2023-06-29T22:28:31.225062",
     "status": "completed"
    },
    "tags": []
   },
   "source": [
    "**This notebook is an exercise in the [Intro to Deep Learning](https://www.kaggle.com/learn/intro-to-deep-learning) course.  You can reference the tutorial at [this link](https://www.kaggle.com/ryanholbrook/a-single-neuron).**\n",
    "\n",
    "---\n"
   ]
  },
  {
   "cell_type": "markdown",
   "id": "2193de94",
   "metadata": {
    "papermill": {
     "duration": 0.003724,
     "end_time": "2023-06-29T22:28:31.237446",
     "exception": false,
     "start_time": "2023-06-29T22:28:31.233722",
     "status": "completed"
    },
    "tags": []
   },
   "source": [
    "# Introduction #\n",
    "\n",
    "In the tutorial we learned about the building blocks of neural networks: *linear units*. We saw that a model of just one linear unit will fit a linear function to a dataset (equivalent to linear regression). In this exercise, you'll build a linear model and get some practice working with models in Keras.\n",
    "\n",
    "Before you get started, run the code cell below to set everything up."
   ]
  },
  {
   "cell_type": "code",
   "execution_count": 1,
   "id": "1ca9c080",
   "metadata": {
    "execution": {
     "iopub.execute_input": "2023-06-29T22:28:31.246844Z",
     "iopub.status.busy": "2023-06-29T22:28:31.246294Z",
     "iopub.status.idle": "2023-06-29T22:28:38.756881Z",
     "shell.execute_reply": "2023-06-29T22:28:38.755949Z"
    },
    "papermill": {
     "duration": 7.517682,
     "end_time": "2023-06-29T22:28:38.759021",
     "exception": false,
     "start_time": "2023-06-29T22:28:31.241339",
     "status": "completed"
    },
    "tags": []
   },
   "outputs": [
    {
     "name": "stderr",
     "output_type": "stream",
     "text": [
      "/opt/conda/lib/python3.10/site-packages/tensorflow_io/python/ops/__init__.py:98: UserWarning: unable to load libtensorflow_io_plugins.so: unable to open file: libtensorflow_io_plugins.so, from paths: ['/opt/conda/lib/python3.10/site-packages/tensorflow_io/python/ops/libtensorflow_io_plugins.so']\n",
      "caused by: ['/opt/conda/lib/python3.10/site-packages/tensorflow_io/python/ops/libtensorflow_io_plugins.so: undefined symbol: _ZN3tsl6StatusC1EN10tensorflow5error4CodeESt17basic_string_viewIcSt11char_traitsIcEENS_14SourceLocationE']\n",
      "  warnings.warn(f\"unable to load libtensorflow_io_plugins.so: {e}\")\n",
      "/opt/conda/lib/python3.10/site-packages/tensorflow_io/python/ops/__init__.py:104: UserWarning: file system plugins are not loaded: unable to open file: libtensorflow_io.so, from paths: ['/opt/conda/lib/python3.10/site-packages/tensorflow_io/python/ops/libtensorflow_io.so']\n",
      "caused by: ['/opt/conda/lib/python3.10/site-packages/tensorflow_io/python/ops/libtensorflow_io.so: undefined symbol: _ZTVN10tensorflow13GcsFileSystemE']\n",
      "  warnings.warn(f\"file system plugins are not loaded: {e}\")\n"
     ]
    }
   ],
   "source": [
    "# Setup plotting\n",
    "import matplotlib.pyplot as plt\n",
    "\n",
    "plt.style.use('seaborn-v0_8')\n",
    "# Set Matplotlib defaults\n",
    "plt.rc('figure', autolayout=True)\n",
    "plt.rc('axes', labelweight='bold', labelsize='large',\n",
    "       titleweight='bold', titlesize=18, titlepad=10)\n",
    "\n",
    "# Setup feedback system\n",
    "from learntools.core import binder\n",
    "binder.bind(globals())\n",
    "from learntools.deep_learning_intro.ex1 import *"
   ]
  },
  {
   "cell_type": "markdown",
   "id": "904ed05a",
   "metadata": {
    "papermill": {
     "duration": 0.003805,
     "end_time": "2023-06-29T22:28:38.767038",
     "exception": false,
     "start_time": "2023-06-29T22:28:38.763233",
     "status": "completed"
    },
    "tags": []
   },
   "source": [
    "The *Red Wine Quality* dataset consists of physiochemical measurements from about 1600 Portuguese red wines.  Also included is a quality rating for each wine from blind taste-tests. \n",
    "\n",
    "First, run the next cell to display the first few rows of this dataset."
   ]
  },
  {
   "cell_type": "code",
   "execution_count": 2,
   "id": "a18be473",
   "metadata": {
    "execution": {
     "iopub.execute_input": "2023-06-29T22:28:38.776811Z",
     "iopub.status.busy": "2023-06-29T22:28:38.775682Z",
     "iopub.status.idle": "2023-06-29T22:28:38.823842Z",
     "shell.execute_reply": "2023-06-29T22:28:38.822982Z"
    },
    "papermill": {
     "duration": 0.054832,
     "end_time": "2023-06-29T22:28:38.825720",
     "exception": false,
     "start_time": "2023-06-29T22:28:38.770888",
     "status": "completed"
    },
    "tags": []
   },
   "outputs": [
    {
     "data": {
      "text/html": [
       "<div>\n",
       "<style scoped>\n",
       "    .dataframe tbody tr th:only-of-type {\n",
       "        vertical-align: middle;\n",
       "    }\n",
       "\n",
       "    .dataframe tbody tr th {\n",
       "        vertical-align: top;\n",
       "    }\n",
       "\n",
       "    .dataframe thead th {\n",
       "        text-align: right;\n",
       "    }\n",
       "</style>\n",
       "<table border=\"1\" class=\"dataframe\">\n",
       "  <thead>\n",
       "    <tr style=\"text-align: right;\">\n",
       "      <th></th>\n",
       "      <th>fixed acidity</th>\n",
       "      <th>volatile acidity</th>\n",
       "      <th>citric acid</th>\n",
       "      <th>residual sugar</th>\n",
       "      <th>chlorides</th>\n",
       "      <th>free sulfur dioxide</th>\n",
       "      <th>total sulfur dioxide</th>\n",
       "      <th>density</th>\n",
       "      <th>pH</th>\n",
       "      <th>sulphates</th>\n",
       "      <th>alcohol</th>\n",
       "      <th>quality</th>\n",
       "    </tr>\n",
       "  </thead>\n",
       "  <tbody>\n",
       "    <tr>\n",
       "      <th>0</th>\n",
       "      <td>7.4</td>\n",
       "      <td>0.70</td>\n",
       "      <td>0.00</td>\n",
       "      <td>1.9</td>\n",
       "      <td>0.076</td>\n",
       "      <td>11.0</td>\n",
       "      <td>34.0</td>\n",
       "      <td>0.9978</td>\n",
       "      <td>3.51</td>\n",
       "      <td>0.56</td>\n",
       "      <td>9.4</td>\n",
       "      <td>5</td>\n",
       "    </tr>\n",
       "    <tr>\n",
       "      <th>1</th>\n",
       "      <td>7.8</td>\n",
       "      <td>0.88</td>\n",
       "      <td>0.00</td>\n",
       "      <td>2.6</td>\n",
       "      <td>0.098</td>\n",
       "      <td>25.0</td>\n",
       "      <td>67.0</td>\n",
       "      <td>0.9968</td>\n",
       "      <td>3.20</td>\n",
       "      <td>0.68</td>\n",
       "      <td>9.8</td>\n",
       "      <td>5</td>\n",
       "    </tr>\n",
       "    <tr>\n",
       "      <th>2</th>\n",
       "      <td>7.8</td>\n",
       "      <td>0.76</td>\n",
       "      <td>0.04</td>\n",
       "      <td>2.3</td>\n",
       "      <td>0.092</td>\n",
       "      <td>15.0</td>\n",
       "      <td>54.0</td>\n",
       "      <td>0.9970</td>\n",
       "      <td>3.26</td>\n",
       "      <td>0.65</td>\n",
       "      <td>9.8</td>\n",
       "      <td>5</td>\n",
       "    </tr>\n",
       "    <tr>\n",
       "      <th>3</th>\n",
       "      <td>11.2</td>\n",
       "      <td>0.28</td>\n",
       "      <td>0.56</td>\n",
       "      <td>1.9</td>\n",
       "      <td>0.075</td>\n",
       "      <td>17.0</td>\n",
       "      <td>60.0</td>\n",
       "      <td>0.9980</td>\n",
       "      <td>3.16</td>\n",
       "      <td>0.58</td>\n",
       "      <td>9.8</td>\n",
       "      <td>6</td>\n",
       "    </tr>\n",
       "    <tr>\n",
       "      <th>4</th>\n",
       "      <td>7.4</td>\n",
       "      <td>0.70</td>\n",
       "      <td>0.00</td>\n",
       "      <td>1.9</td>\n",
       "      <td>0.076</td>\n",
       "      <td>11.0</td>\n",
       "      <td>34.0</td>\n",
       "      <td>0.9978</td>\n",
       "      <td>3.51</td>\n",
       "      <td>0.56</td>\n",
       "      <td>9.4</td>\n",
       "      <td>5</td>\n",
       "    </tr>\n",
       "  </tbody>\n",
       "</table>\n",
       "</div>"
      ],
      "text/plain": [
       "   fixed acidity  volatile acidity  citric acid  residual sugar  chlorides  \\\n",
       "0            7.4              0.70         0.00             1.9      0.076   \n",
       "1            7.8              0.88         0.00             2.6      0.098   \n",
       "2            7.8              0.76         0.04             2.3      0.092   \n",
       "3           11.2              0.28         0.56             1.9      0.075   \n",
       "4            7.4              0.70         0.00             1.9      0.076   \n",
       "\n",
       "   free sulfur dioxide  total sulfur dioxide  density    pH  sulphates  \\\n",
       "0                 11.0                  34.0   0.9978  3.51       0.56   \n",
       "1                 25.0                  67.0   0.9968  3.20       0.68   \n",
       "2                 15.0                  54.0   0.9970  3.26       0.65   \n",
       "3                 17.0                  60.0   0.9980  3.16       0.58   \n",
       "4                 11.0                  34.0   0.9978  3.51       0.56   \n",
       "\n",
       "   alcohol  quality  \n",
       "0      9.4        5  \n",
       "1      9.8        5  \n",
       "2      9.8        5  \n",
       "3      9.8        6  \n",
       "4      9.4        5  "
      ]
     },
     "execution_count": 2,
     "metadata": {},
     "output_type": "execute_result"
    }
   ],
   "source": [
    "import pandas as pd\n",
    "\n",
    "red_wine = pd.read_csv('../input/dl-course-data/red-wine.csv')\n",
    "red_wine.head()"
   ]
  },
  {
   "cell_type": "markdown",
   "id": "2c83b3d0",
   "metadata": {
    "papermill": {
     "duration": 0.005573,
     "end_time": "2023-06-29T22:28:38.835733",
     "exception": false,
     "start_time": "2023-06-29T22:28:38.830160",
     "status": "completed"
    },
    "tags": []
   },
   "source": [
    "You can get the number of rows and columns of a dataframe (or a Numpy array) with the `shape` attribute."
   ]
  },
  {
   "cell_type": "code",
   "execution_count": 3,
   "id": "83c0af89",
   "metadata": {
    "execution": {
     "iopub.execute_input": "2023-06-29T22:28:38.845656Z",
     "iopub.status.busy": "2023-06-29T22:28:38.845105Z",
     "iopub.status.idle": "2023-06-29T22:28:38.850250Z",
     "shell.execute_reply": "2023-06-29T22:28:38.849667Z"
    },
    "papermill": {
     "duration": 0.012002,
     "end_time": "2023-06-29T22:28:38.851887",
     "exception": false,
     "start_time": "2023-06-29T22:28:38.839885",
     "status": "completed"
    },
    "tags": []
   },
   "outputs": [
    {
     "data": {
      "text/plain": [
       "(1599, 12)"
      ]
     },
     "execution_count": 3,
     "metadata": {},
     "output_type": "execute_result"
    }
   ],
   "source": [
    "red_wine.shape # (rows, columns)"
   ]
  },
  {
   "cell_type": "markdown",
   "id": "4b410296",
   "metadata": {
    "papermill": {
     "duration": 0.004115,
     "end_time": "2023-06-29T22:28:38.860280",
     "exception": false,
     "start_time": "2023-06-29T22:28:38.856165",
     "status": "completed"
    },
    "tags": []
   },
   "source": [
    "# 1) Input shape #\n",
    "\n",
    "How well can we predict a wine's perceived quality from the physiochemical measurements?  \n",
    "\n",
    "The target is `'quality'`, and the remaining columns are the features.  How would you set the `input_shape` parameter for a Keras model on this task?"
   ]
  },
  {
   "cell_type": "code",
   "execution_count": 4,
   "id": "6e4cb5af",
   "metadata": {
    "execution": {
     "iopub.execute_input": "2023-06-29T22:28:38.870122Z",
     "iopub.status.busy": "2023-06-29T22:28:38.869837Z",
     "iopub.status.idle": "2023-06-29T22:28:38.876360Z",
     "shell.execute_reply": "2023-06-29T22:28:38.875573Z"
    },
    "lines_to_next_cell": 0,
    "papermill": {
     "duration": 0.013462,
     "end_time": "2023-06-29T22:28:38.877992",
     "exception": false,
     "start_time": "2023-06-29T22:28:38.864530",
     "status": "completed"
    },
    "tags": []
   },
   "outputs": [
    {
     "data": {
      "application/javascript": [
       "parent.postMessage({\"jupyterEvent\": \"custom.exercise_interaction\", \"data\": {\"outcomeType\": 1, \"valueTowardsCompletion\": 0.3333333333333333, \"interactionType\": 1, \"questionType\": 2, \"questionId\": \"1_Q1\", \"learnToolsVersion\": \"0.3.4\", \"failureMessage\": \"\", \"exceptionClass\": \"\", \"trace\": \"\"}}, \"*\")"
      ],
      "text/plain": [
       "<IPython.core.display.Javascript object>"
      ]
     },
     "metadata": {},
     "output_type": "display_data"
    },
    {
     "data": {
      "text/markdown": [
       "<span style=\"color:#33cc33\">Correct</span>"
      ],
      "text/plain": [
       "Correct"
      ]
     },
     "metadata": {},
     "output_type": "display_data"
    }
   ],
   "source": [
    "# YOUR CODE HERE\n",
    "input_shape = [11]\n",
    "\n",
    "# Check your answer\n",
    "q_1.check()"
   ]
  },
  {
   "cell_type": "code",
   "execution_count": 5,
   "id": "aa3b50ea",
   "metadata": {
    "execution": {
     "iopub.execute_input": "2023-06-29T22:28:38.888750Z",
     "iopub.status.busy": "2023-06-29T22:28:38.887742Z",
     "iopub.status.idle": "2023-06-29T22:28:38.892081Z",
     "shell.execute_reply": "2023-06-29T22:28:38.891192Z"
    },
    "papermill": {
     "duration": 0.011153,
     "end_time": "2023-06-29T22:28:38.893696",
     "exception": false,
     "start_time": "2023-06-29T22:28:38.882543",
     "status": "completed"
    },
    "tags": []
   },
   "outputs": [],
   "source": [
    "# Lines below will give you a hint or solution code\n",
    "#q_1.hint()\n",
    "#q_1.solution()"
   ]
  },
  {
   "cell_type": "markdown",
   "id": "cb41fd8b",
   "metadata": {
    "papermill": {
     "duration": 0.004392,
     "end_time": "2023-06-29T22:28:38.902566",
     "exception": false,
     "start_time": "2023-06-29T22:28:38.898174",
     "status": "completed"
    },
    "tags": []
   },
   "source": [
    "# 2) Define a linear model\n",
    "\n",
    "Now define a linear model appropriate for this task. Pay attention to how many inputs and outputs the model should have."
   ]
  },
  {
   "cell_type": "code",
   "execution_count": 6,
   "id": "4d0cfb7a",
   "metadata": {
    "execution": {
     "iopub.execute_input": "2023-06-29T22:28:38.914475Z",
     "iopub.status.busy": "2023-06-29T22:28:38.913720Z",
     "iopub.status.idle": "2023-06-29T22:28:39.046027Z",
     "shell.execute_reply": "2023-06-29T22:28:39.045138Z"
    },
    "lines_to_next_cell": 0,
    "papermill": {
     "duration": 0.139635,
     "end_time": "2023-06-29T22:28:39.047633",
     "exception": false,
     "start_time": "2023-06-29T22:28:38.907998",
     "status": "completed"
    },
    "tags": []
   },
   "outputs": [
    {
     "data": {
      "application/javascript": [
       "parent.postMessage({\"jupyterEvent\": \"custom.exercise_interaction\", \"data\": {\"outcomeType\": 1, \"valueTowardsCompletion\": 0.3333333333333333, \"interactionType\": 1, \"questionType\": 2, \"questionId\": \"2_Q2\", \"learnToolsVersion\": \"0.3.4\", \"failureMessage\": \"\", \"exceptionClass\": \"\", \"trace\": \"\"}}, \"*\")"
      ],
      "text/plain": [
       "<IPython.core.display.Javascript object>"
      ]
     },
     "metadata": {},
     "output_type": "display_data"
    },
    {
     "data": {
      "text/markdown": [
       "<span style=\"color:#33cc33\">Correct</span>"
      ],
      "text/plain": [
       "Correct"
      ]
     },
     "metadata": {},
     "output_type": "display_data"
    }
   ],
   "source": [
    "from tensorflow import keras\n",
    "from tensorflow.keras import layers\n",
    "\n",
    "# YOUR CODE HERE\n",
    "model = keras.Sequential([\n",
    "    layers.Dense(units=1, input_shape=[11])\n",
    "])\n",
    "\n",
    "# Check your answer\n",
    "q_2.check()"
   ]
  },
  {
   "cell_type": "code",
   "execution_count": 7,
   "id": "566a87b7",
   "metadata": {
    "execution": {
     "iopub.execute_input": "2023-06-29T22:28:39.058275Z",
     "iopub.status.busy": "2023-06-29T22:28:39.058022Z",
     "iopub.status.idle": "2023-06-29T22:28:39.061534Z",
     "shell.execute_reply": "2023-06-29T22:28:39.060792Z"
    },
    "papermill": {
     "duration": 0.010628,
     "end_time": "2023-06-29T22:28:39.063203",
     "exception": false,
     "start_time": "2023-06-29T22:28:39.052575",
     "status": "completed"
    },
    "tags": []
   },
   "outputs": [],
   "source": [
    "# Lines below will give you a hint or solution code\n",
    "#q_2.hint()\n",
    "#q_2.solution()"
   ]
  },
  {
   "cell_type": "markdown",
   "id": "f8b11018",
   "metadata": {
    "papermill": {
     "duration": 0.005384,
     "end_time": "2023-06-29T22:28:39.073749",
     "exception": false,
     "start_time": "2023-06-29T22:28:39.068365",
     "status": "completed"
    },
    "tags": []
   },
   "source": [
    "# 3) Look at the weights\n",
    "\n",
    "Internally, Keras represents the weights of a neural network with **tensors**. Tensors are basically TensorFlow's version of a Numpy array with a few differences that make them better suited to deep learning. One of the most important is that tensors are compatible with [GPU](https://www.kaggle.com/docs/efficient-gpu-usage) and [TPU](https://www.kaggle.com/docs/tpu)) accelerators. TPUs, in fact, are designed specifically for tensor computations.\n",
    "\n",
    "A model's weights are kept in its `weights` attribute as a list of tensors. Get the weights of the model you defined above. (If you want, you could display the weights with something like: `print(\"Weights\\n{}\\n\\nBias\\n{}\".format(w, b))`)."
   ]
  },
  {
   "cell_type": "code",
   "execution_count": 8,
   "id": "bbe976ef",
   "metadata": {
    "execution": {
     "iopub.execute_input": "2023-06-29T22:28:39.084416Z",
     "iopub.status.busy": "2023-06-29T22:28:39.084109Z",
     "iopub.status.idle": "2023-06-29T22:28:39.097151Z",
     "shell.execute_reply": "2023-06-29T22:28:39.096323Z"
    },
    "lines_to_next_cell": 0,
    "papermill": {
     "duration": 0.02063,
     "end_time": "2023-06-29T22:28:39.099095",
     "exception": false,
     "start_time": "2023-06-29T22:28:39.078465",
     "status": "completed"
    },
    "tags": []
   },
   "outputs": [
    {
     "name": "stdout",
     "output_type": "stream",
     "text": [
      "Weights\n",
      "<tf.Variable 'dense/kernel:0' shape=(11, 1) dtype=float32, numpy=\n",
      "array([[-0.4466681 ],\n",
      "       [ 0.45631665],\n",
      "       [ 0.6024986 ],\n",
      "       [-0.36596918],\n",
      "       [-0.37103724],\n",
      "       [ 0.07084024],\n",
      "       [-0.28283873],\n",
      "       [ 0.15279615],\n",
      "       [-0.46292043],\n",
      "       [ 0.2637961 ],\n",
      "       [-0.23988333]], dtype=float32)>\n",
      "\n",
      "Bias\n",
      "<tf.Variable 'dense/bias:0' shape=(1,) dtype=float32, numpy=array([0.], dtype=float32)>\n"
     ]
    },
    {
     "data": {
      "application/javascript": [
       "parent.postMessage({\"jupyterEvent\": \"custom.exercise_interaction\", \"data\": {\"outcomeType\": 1, \"valueTowardsCompletion\": 0.3333333333333333, \"interactionType\": 1, \"questionType\": 2, \"questionId\": \"3_Q3\", \"learnToolsVersion\": \"0.3.4\", \"failureMessage\": \"\", \"exceptionClass\": \"\", \"trace\": \"\"}}, \"*\")"
      ],
      "text/plain": [
       "<IPython.core.display.Javascript object>"
      ]
     },
     "metadata": {},
     "output_type": "display_data"
    },
    {
     "data": {
      "text/markdown": [
       "<span style=\"color:#33cc33\">Correct:</span> Do you see how there's one weight for each input (and a bias)? Notice though that there doesn't seem to be any pattern to the values the weights have. Before the model is trained, the weights are set to random numbers (and the bias to 0.0). A neural network learns by finding better values for its weights.\n"
      ],
      "text/plain": [
       "Correct: Do you see how there's one weight for each input (and a bias)? Notice though that there doesn't seem to be any pattern to the values the weights have. Before the model is trained, the weights are set to random numbers (and the bias to 0.0). A neural network learns by finding better values for its weights."
      ]
     },
     "metadata": {},
     "output_type": "display_data"
    }
   ],
   "source": [
    "# YOUR CODE HERE\n",
    "w, b = model.weights\n",
    "print(\"Weights\\n{}\\n\\nBias\\n{}\".format(w, b))\n",
    "\n",
    "# Check your answer\n",
    "q_3.check()"
   ]
  },
  {
   "cell_type": "code",
   "execution_count": 9,
   "id": "602e9d28",
   "metadata": {
    "execution": {
     "iopub.execute_input": "2023-06-29T22:28:39.110245Z",
     "iopub.status.busy": "2023-06-29T22:28:39.110011Z",
     "iopub.status.idle": "2023-06-29T22:28:39.121050Z",
     "shell.execute_reply": "2023-06-29T22:28:39.120178Z"
    },
    "lines_to_next_cell": 0,
    "papermill": {
     "duration": 0.018405,
     "end_time": "2023-06-29T22:28:39.122654",
     "exception": false,
     "start_time": "2023-06-29T22:28:39.104249",
     "status": "completed"
    },
    "tags": []
   },
   "outputs": [
    {
     "data": {
      "application/javascript": [
       "parent.postMessage({\"jupyterEvent\": \"custom.exercise_interaction\", \"data\": {\"interactionType\": 2, \"questionType\": 2, \"questionId\": \"3_Q3\", \"learnToolsVersion\": \"0.3.4\", \"valueTowardsCompletion\": 0.0, \"failureMessage\": \"\", \"exceptionClass\": \"\", \"trace\": \"\", \"outcomeType\": 4}}, \"*\")"
      ],
      "text/plain": [
       "<IPython.core.display.Javascript object>"
      ]
     },
     "metadata": {},
     "output_type": "display_data"
    },
    {
     "data": {
      "text/markdown": [
       "<span style=\"color:#3366cc\">Hint:</span> You can get the attribute of an object using the 'dot' notation: like `object.attribute`."
      ],
      "text/plain": [
       "Hint: You can get the attribute of an object using the 'dot' notation: like `object.attribute`."
      ]
     },
     "metadata": {},
     "output_type": "display_data"
    },
    {
     "data": {
      "application/javascript": [
       "parent.postMessage({\"jupyterEvent\": \"custom.exercise_interaction\", \"data\": {\"interactionType\": 3, \"questionType\": 2, \"questionId\": \"3_Q3\", \"learnToolsVersion\": \"0.3.4\", \"valueTowardsCompletion\": 0.0, \"failureMessage\": \"\", \"exceptionClass\": \"\", \"trace\": \"\", \"outcomeType\": 4}}, \"*\")"
      ],
      "text/plain": [
       "<IPython.core.display.Javascript object>"
      ]
     },
     "metadata": {},
     "output_type": "display_data"
    },
    {
     "data": {
      "text/markdown": [
       "<span style=\"color:#33cc99\">Solution:</span> \n",
       "```python\n",
       "\n",
       "# Uncomment if you need the model from the previous question:\n",
       "# model = keras.Sequential([\n",
       "#     layers.Dense(units=1, input_shape=[11])\n",
       "# ])\n",
       "\n",
       "w, b = model.weights\n",
       "\n",
       "print(\"Weights\\n{}\\n\\nBias\\n{}\".format(w, b))\n",
       "\n",
       "```"
      ],
      "text/plain": [
       "Solution: \n",
       "```python\n",
       "\n",
       "# Uncomment if you need the model from the previous question:\n",
       "# model = keras.Sequential([\n",
       "#     layers.Dense(units=1, input_shape=[11])\n",
       "# ])\n",
       "\n",
       "w, b = model.weights\n",
       "\n",
       "print(\"Weights\\n{}\\n\\nBias\\n{}\".format(w, b))\n",
       "\n",
       "```"
      ]
     },
     "metadata": {},
     "output_type": "display_data"
    }
   ],
   "source": [
    "# Lines below will give you a hint or solution code\n",
    "q_3.hint()\n",
    "q_3.solution()"
   ]
  },
  {
   "cell_type": "markdown",
   "id": "c547946f",
   "metadata": {
    "papermill": {
     "duration": 0.006039,
     "end_time": "2023-06-29T22:28:39.135279",
     "exception": false,
     "start_time": "2023-06-29T22:28:39.129240",
     "status": "completed"
    },
    "tags": []
   },
   "source": [
    "(By the way, Keras represents weights as tensors, but also uses tensors to represent data. When you set the `input_shape` argument, you are telling Keras the dimensions of the array it should expect for each example in the training data. Setting `input_shape=[3]` would create a network accepting vectors of length 3, like `[0.2, 0.4, 0.6]`.)\n",
    " \n",
    "\n",
    "# Optional: Plot the output of an untrained linear model\n",
    " \n",
    "The kinds of problems we'll work on through Lesson 5 will be *regression* problems, where the goal is to predict some numeric target. Regression problems are like \"curve-fitting\" problems: we're trying to find a curve that best fits the data. Let's take a look at the \"curve\" produced by a linear model. (You've probably guessed that it's a line!)\n",
    " \n",
    "We mentioned that before training a model's weights are set randomly. Run the cell below a few times to see the different lines produced with a random initialization. (There's no coding for this exercise -- it's just a demonstration.)"
   ]
  },
  {
   "cell_type": "code",
   "execution_count": 10,
   "id": "8eadddde",
   "metadata": {
    "execution": {
     "iopub.execute_input": "2023-06-29T22:28:39.147850Z",
     "iopub.status.busy": "2023-06-29T22:28:39.147511Z",
     "iopub.status.idle": "2023-06-29T22:28:39.737898Z",
     "shell.execute_reply": "2023-06-29T22:28:39.736810Z"
    },
    "lines_to_next_cell": 0,
    "papermill": {
     "duration": 0.598774,
     "end_time": "2023-06-29T22:28:39.739730",
     "exception": false,
     "start_time": "2023-06-29T22:28:39.140956",
     "status": "completed"
    },
    "tags": []
   },
   "outputs": [
    {
     "name": "stdout",
     "output_type": "stream",
     "text": [
      "4/4 [==============================] - 0s 2ms/step\n"
     ]
    },
    {
     "data": {
      "image/png": "[encoded data removed]",
      "text/plain": [
       "<Figure size 800x550 with 1 Axes>"
      ]
     },
     "metadata": {},
     "output_type": "display_data"
    }
   ],
   "source": [
    "import tensorflow as tf\n",
    "import matplotlib.pyplot as plt\n",
    "\n",
    "model = keras.Sequential([\n",
    "    layers.Dense(1, input_shape=[1]),\n",
    "])\n",
    "\n",
    "x = tf.linspace(-1.0, 1.0, 100)\n",
    "y = model.predict(x)\n",
    "\n",
    "plt.figure(dpi=100)\n",
    "plt.plot(x, y, 'k')\n",
    "plt.xlim(-1, 1)\n",
    "plt.ylim(-1, 1)\n",
    "plt.xlabel(\"Input: x\")\n",
    "plt.ylabel(\"Target y\")\n",
    "w, b = model.weights # you could also use model.get_weights() here\n",
    "plt.title(\"Weight: {:0.2f}\\nBias: {:0.2f}\".format(w[0][0], b[0]))\n",
    "plt.show()"
   ]
  },
  {
   "cell_type": "code",
   "execution_count": 11,
   "id": "1968c27d",
   "metadata": {
    "execution": {
     "iopub.execute_input": "2023-06-29T22:28:39.753407Z",
     "iopub.status.busy": "2023-06-29T22:28:39.753076Z",
     "iopub.status.idle": "2023-06-29T22:28:40.094745Z",
     "shell.execute_reply": "2023-06-29T22:28:40.093866Z"
    },
    "lines_to_next_cell": 0,
    "papermill": {
     "duration": 0.351067,
     "end_time": "2023-06-29T22:28:40.097126",
     "exception": false,
     "start_time": "2023-06-29T22:28:39.746059",
     "status": "completed"
    },
    "tags": []
   },
   "outputs": [
    {
     "name": "stdout",
     "output_type": "stream",
     "text": [
      "4/4 [==============================] - 0s 2ms/step\n"
     ]
    },
    {
     "data": {
      "image/png": "[encoded data removed]",
      "text/plain": [
       "<Figure size 800x550 with 1 Axes>"
      ]
     },
     "metadata": {},
     "output_type": "display_data"
    }
   ],
   "source": [
    "import tensorflow as tf\n",
    "import matplotlib.pyplot as plt\n",
    "\n",
    "model = keras.Sequential([\n",
    "    layers.Dense(1, input_shape=[1]),\n",
    "])\n",
    "\n",
    "x = tf.linspace(-1.0, 1.0, 100)\n",
    "y = model.predict(x)\n",
    "\n",
    "plt.figure(dpi=100)\n",
    "plt.plot(x, y, 'k')\n",
    "plt.xlim(-1, 1)\n",
    "plt.ylim(-1, 1)\n",
    "plt.xlabel(\"Input: x\")\n",
    "plt.ylabel(\"Target y\")\n",
    "w, b = model.weights # you could also use model.get_weights() here\n",
    "plt.title(\"Weight: {:0.2f}\\nBias: {:0.2f}\".format(w[0][0], b[0]))\n",
    "plt.show()"
   ]
  },
  {
   "cell_type": "markdown",
   "id": "4f1b746b",
   "metadata": {
    "papermill": {
     "duration": 0.006327,
     "end_time": "2023-06-29T22:28:40.110442",
     "exception": false,
     "start_time": "2023-06-29T22:28:40.104115",
     "status": "completed"
    },
    "tags": []
   },
   "source": [
    "# Keep Going #\n",
    "\n",
    "Add hidden layers and [**make your models deep**](https://www.kaggle.com/ryanholbrook/deep-neural-networks) in Lesson 2."
   ]
  },
  {
   "cell_type": "markdown",
   "id": "9766b469",
   "metadata": {
    "papermill": {
     "duration": 0.006303,
     "end_time": "2023-06-29T22:28:40.123212",
     "exception": false,
     "start_time": "2023-06-29T22:28:40.116909",
     "status": "completed"
    },
    "tags": []
   },
   "source": [
    "---\n",
    "\n",
    "\n",
    "\n",
    "\n",
    "*Have questions or comments? Visit the [course discussion forum](https://www.kaggle.com/learn/intro-to-deep-learning/discussion) to chat with other learners.*"
   ]
  }
 ],
 "metadata": {
  "kernelspec": {
   "display_name": "Python 3",
   "language": "python",
   "name": "python3"
  },
  "language_info": {
   "codemirror_mode": {
    "name": "ipython",
    "version": 3
   },
   "file_extension": ".py",
   "mimetype": "text/x-python",
   "name": "python",
   "nbconvert_exporter": "python",
   "pygments_lexer": "ipython3",
   "version": "3.10.10"
  },
  "papermill": {
   "default_parameters": {},
   "duration": 20.294526,
   "end_time": "2023-06-29T22:28:43.209015",
   "environment_variables": {},
   "exception": null,
   "input_path": "__notebook__.ipynb",
   "output_path": "__notebook__.ipynb",
   "parameters": {},
   "start_time": "2023-06-29T22:28:22.914489",
   "version": "2.4.0"
  }
 },
 "nbformat": 4,
 "nbformat_minor": 5
}
